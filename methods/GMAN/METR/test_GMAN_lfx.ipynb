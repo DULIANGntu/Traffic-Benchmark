{
 "cells": [
  {
   "cell_type": "code",
   "execution_count": 32,
   "metadata": {},
   "outputs": [],
   "source": [
    "import numpy as np\n",
    "path = '/Users/lifuxian/Desktop/研一下学期/实验室/新科研/code_data/GMAN-master/METR/data/SE(METR).txt'\n",
    "test = open(path, 'r').readlines()\n",
    "num_nodes, embedding_dim = test[0].strip('\\n').split(' ')\n",
    "array_embedding = np.zeros((int(num_nodes), int(embedding_dim)))\n",
    "for line in test:\n",
    "    temp = line.strip('\\n').split(' ')\n",
    "    id_node = int(temp[0]) - 1\n",
    "    embedding = [float(value) for value in temp[1:]]\n",
    "    array_embedding[id_node] = embedding\n",
    "    \n",
    "np.save('/Users/lifuxian/Desktop/研一下学期/实验室/新科研/code_data/GMAN-master/METR/data/SE(METR).npy',array_embedding)"
   ]
  },
  {
   "cell_type": "code",
   "execution_count": 33,
   "metadata": {},
   "outputs": [],
   "source": [
    "import argparse\n",
    "parser = argparse.ArgumentParser()\n",
    "parser.add_argument('--time_slot', type = int, default = 5,\n",
    "                    help = 'a time step is 5 mins')\n",
    "parser.add_argument('--P', type = int, default = 12,\n",
    "                    help = 'history steps')\n",
    "parser.add_argument('--Q', type = int, default = 12,\n",
    "                    help = 'prediction steps')\n",
    "parser.add_argument('--L', type = int, default = 5,\n",
    "                    help = 'number of STAtt Blocks')\n",
    "parser.add_argument('--K', type = int, default = 8,\n",
    "                    help = 'number of attention heads')\n",
    "parser.add_argument('--d', type = int, default = 8,\n",
    "                    help = 'dims of each head attention outputs')\n",
    "parser.add_argument('--train_ratio', type = float, default = 0.7,\n",
    "                    help = 'training set [default : 0.7]')\n",
    "parser.add_argument('--val_ratio', type = float, default = 0.1,\n",
    "                    help = 'validation set [default : 0.1]')\n",
    "parser.add_argument('--test_ratio', type = float, default = 0.2,\n",
    "                    help = 'testing set [default : 0.2]')\n",
    "parser.add_argument('--batch_size', type = int, default = 16,\n",
    "                    help = 'batch size')\n",
    "parser.add_argument('--max_epoch', type = int, default = 1000,\n",
    "                    help = 'epoch to run')\n",
    "parser.add_argument('--patience', type = int, default = 10,\n",
    "                    help = 'patience for early stop')\n",
    "parser.add_argument('--learning_rate', type=float, default = 0.001,\n",
    "                    help = 'initial learning rate')\n",
    "parser.add_argument('--decay_epoch', type=int, default = 5,\n",
    "                    help = 'decay epoch')\n",
    "parser.add_argument('--traffic_file', default = 'data/METR.h5',\n",
    "                    help = 'traffic file')\n",
    "parser.add_argument('--SE_file', default = 'data/SE(METR).txt',\n",
    "                    help = 'spatial emebdding file')\n",
    "parser.add_argument('--model_file', default = 'data/GMAN(METR)',\n",
    "                    help = 'save the model to disk')\n",
    "parser.add_argument('--log_file', default = 'data/log(METR)',\n",
    "                    help = 'log file')\n",
    "args = parser.parse_args([])"
   ]
  },
  {
   "cell_type": "code",
   "execution_count": 35,
   "metadata": {},
   "outputs": [
    {
     "name": "stdout",
     "output_type": "stream",
     "text": [
      "12 12 288 5 8 8\n"
     ]
    }
   ],
   "source": [
    "T = 24 * 60 // args.time_slot\n",
    "print(args.P, args.Q, T, args.L, args.K, args.d)"
   ]
  },
  {
   "cell_type": "code",
   "execution_count": null,
   "metadata": {},
   "outputs": [],
   "source": []
  }
 ],
 "metadata": {
  "kernelspec": {
   "display_name": "Python 3",
   "language": "python",
   "name": "python3"
  },
  "language_info": {
   "codemirror_mode": {
    "name": "ipython",
    "version": 3
   },
   "file_extension": ".py",
   "mimetype": "text/x-python",
   "name": "python",
   "nbconvert_exporter": "python",
   "pygments_lexer": "ipython3",
   "version": "3.7.1"
  }
 },
 "nbformat": 4,
 "nbformat_minor": 2
}
